{
 "cells": [
  {
   "cell_type": "code",
   "execution_count": 42,
   "outputs": [],
   "source": [
    "%matplotlib inline\n",
    "\n",
    "from matplotlib import pyplot as plt\n",
    "import cv2 as cv\n",
    "import numpy as np"
   ],
   "metadata": {
    "collapsed": false,
    "pycharm": {
     "name": "#%%\n"
    }
   }
  },
  {
   "cell_type": "code",
   "execution_count": 45,
   "outputs": [
    {
     "name": "stdout",
     "output_type": "stream",
     "text": [
      "Image not empty: True\r"
     ]
    },
    {
     "ename": "AttributeError",
     "evalue": "'numpy.ndarray' object has no attribute 'type'",
     "output_type": "error",
     "traceback": [
      "\u001B[0;31m---------------------------------------------------------------------------\u001B[0m",
      "\u001B[0;31mAttributeError\u001B[0m                            Traceback (most recent call last)",
      "Input \u001B[0;32mIn [45]\u001B[0m, in \u001B[0;36m<module>\u001B[0;34m\u001B[0m\n\u001B[1;32m      7\u001B[0m success, img \u001B[38;5;241m=\u001B[39m cap\u001B[38;5;241m.\u001B[39mread()\n\u001B[1;32m      8\u001B[0m \u001B[38;5;28mprint\u001B[39m(\u001B[38;5;124mf\u001B[39m\u001B[38;5;124m'\u001B[39m\u001B[38;5;124mImage not empty: \u001B[39m\u001B[38;5;132;01m{\u001B[39;00msuccess\u001B[38;5;132;01m}\u001B[39;00m\u001B[38;5;124m'\u001B[39m, end\u001B[38;5;241m=\u001B[39m\u001B[38;5;124m'\u001B[39m\u001B[38;5;130;01m\\r\u001B[39;00m\u001B[38;5;124m'\u001B[39m, flush\u001B[38;5;241m=\u001B[39m\u001B[38;5;28;01mTrue\u001B[39;00m)\n\u001B[0;32m----> 9\u001B[0m \u001B[38;5;28mprint\u001B[39m(\u001B[38;5;124mf\u001B[39m\u001B[38;5;124m'\u001B[39m\u001B[38;5;124mImage type: \u001B[39m\u001B[38;5;132;01m{\u001B[39;00mimg\u001B[38;5;241m.\u001B[39mtype()\u001B[38;5;132;01m}\u001B[39;00m\u001B[38;5;124m'\u001B[39m, end\u001B[38;5;241m=\u001B[39m\u001B[38;5;124m'\u001B[39m\u001B[38;5;130;01m\\r\u001B[39;00m\u001B[38;5;124m'\u001B[39m, flush\u001B[38;5;241m=\u001B[39m\u001B[38;5;28;01mTrue\u001B[39;00m)\n\u001B[1;32m     11\u001B[0m \u001B[38;5;28;01mif\u001B[39;00m success:\n\u001B[1;32m     12\u001B[0m     circles \u001B[38;5;241m=\u001B[39m cv\u001B[38;5;241m.\u001B[39mHoughCircles(img, cv\u001B[38;5;241m.\u001B[39mHOUGH_GRADIENT, \u001B[38;5;241m1\u001B[39m, \u001B[38;5;241m20\u001B[39m, param1\u001B[38;5;241m=\u001B[39m\u001B[38;5;241m50\u001B[39m, param2\u001B[38;5;241m=\u001B[39m\u001B[38;5;241m30\u001B[39m, minRadius\u001B[38;5;241m=\u001B[39m\u001B[38;5;241m0\u001B[39m, maxRadius\u001B[38;5;241m=\u001B[39m\u001B[38;5;241m0\u001B[39m)\n",
      "\u001B[0;31mAttributeError\u001B[0m: 'numpy.ndarray' object has no attribute 'type'"
     ]
    }
   ],
   "source": [
    "cap = cv.VideoCapture(-1)\n",
    "cap.set(3, 640)\n",
    "cap.set(4, 480)\n",
    "cap.set(10, 0)\n",
    "\n",
    "while True:\n",
    "    success, img = cap.read()\n",
    "    # vis0 = cv.fromarray(img)\n",
    "    # cv.CvtColor(vis0, vis2, cv.CV_GRAY2BGR)\n",
    "    print(f'Image not empty: {success}', end='\\r', flush=True)\n",
    "    print(f'Image type: {img.type()}', end='\\r', flush=True)\n",
    "\n",
    "    if success:\n",
    "        circles = cv.HoughCircles(img, cv.HOUGH_GRADIENT, 1, 20, param1=50, param2=30, minRadius=0, maxRadius=0)\n",
    "        circles = np.uint16(np.around(circles))\n",
    "        for i in circles[0,:]:\n",
    "            # draw the outer circle\n",
    "            cv.circle(img,(i[0],i[1]),i[2],(0,255,0),2)\n",
    "            # draw the center of the circle\n",
    "            cv.circle(img,(i[0],i[1]),2,(0,0,255),-1)\n",
    "\n",
    "    cv.imshow(\"Cam\", img)\n",
    "    if cv.waitKey(1) & 0xFF == ord('q'):\n",
    "        cv.destroyAllWindows()\n",
    "        break"
   ],
   "metadata": {
    "collapsed": false,
    "pycharm": {
     "name": "#%%\n"
    }
   }
  },
  {
   "cell_type": "code",
   "execution_count": null,
   "outputs": [],
   "source": [],
   "metadata": {
    "collapsed": false,
    "pycharm": {
     "name": "#%%\n",
     "is_executing": true
    }
   }
  },
  {
   "cell_type": "code",
   "execution_count": null,
   "outputs": [],
   "source": [],
   "metadata": {
    "collapsed": false,
    "pycharm": {
     "name": "#%%\n"
    }
   }
  }
 ],
 "metadata": {
  "kernelspec": {
   "display_name": "Python 3",
   "language": "python",
   "name": "python3"
  },
  "language_info": {
   "codemirror_mode": {
    "name": "ipython",
    "version": 2
   },
   "file_extension": ".py",
   "mimetype": "text/x-python",
   "name": "python",
   "nbconvert_exporter": "python",
   "pygments_lexer": "ipython2",
   "version": "2.7.6"
  }
 },
 "nbformat": 4,
 "nbformat_minor": 0
}