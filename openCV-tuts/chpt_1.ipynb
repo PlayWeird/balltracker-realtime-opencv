{
 "cells": [
  {
   "cell_type": "code",
   "execution_count": 2,
   "metadata": {
    "collapsed": true,
    "pycharm": {
     "name": "#%%\n"
    }
   },
   "outputs": [],
   "source": [
    "%matplotlib inline\n",
    "\n",
    "from matplotlib import pyplot as plt\n",
    "import cv2 as cv\n",
    "import numpy as np"
   ]
  },
  {
   "cell_type": "code",
   "execution_count": 7,
   "outputs": [],
   "source": [
    "img = cv.imread('Resources/lena.png', 1)\n",
    "img2 = cv.cvtColor(img, cv.COLOR_BGR2RGB)\n",
    "cv.imshow('lena', img)\n",
    "cv.waitKey(0)\n",
    "cv.destroyAllWindows()"
   ],
   "metadata": {
    "collapsed": false,
    "pycharm": {
     "name": "#%%\n"
    }
   }
  },
  {
   "cell_type": "code",
   "execution_count": 1,
   "outputs": [
    {
     "ename": "NameError",
     "evalue": "name 'cv' is not defined",
     "output_type": "error",
     "traceback": [
      "\u001B[0;31m---------------------------------------------------------------------------\u001B[0m",
      "\u001B[0;31mNameError\u001B[0m                                 Traceback (most recent call last)",
      "Input \u001B[0;32mIn [1]\u001B[0m, in \u001B[0;36m<module>\u001B[0;34m\u001B[0m\n\u001B[0;32m----> 1\u001B[0m cap \u001B[38;5;241m=\u001B[39m \u001B[43mcv\u001B[49m\u001B[38;5;241m.\u001B[39mVideoCapture(\u001B[38;5;241m0\u001B[39m)\n\u001B[1;32m      2\u001B[0m cap\u001B[38;5;241m.\u001B[39mset(\u001B[38;5;241m3\u001B[39m, \u001B[38;5;241m640\u001B[39m)\n\u001B[1;32m      3\u001B[0m cap\u001B[38;5;241m.\u001B[39mset(\u001B[38;5;241m4\u001B[39m, \u001B[38;5;241m480\u001B[39m)\n",
      "\u001B[0;31mNameError\u001B[0m: name 'cv' is not defined"
     ]
    }
   ],
   "source": [
    "cap = cv.VideoCapture(0)\n",
    "cap.set(3, 640)\n",
    "cap.set(4, 480)\n",
    "cap.set(10, 0)\n",
    "\n",
    "while True:\n",
    "    success, img = cap.read()\n",
    "    cv.imshow(\"Cam\", img)\n",
    "    if cv.waitKey(1) & 0xFF == ord('q'):\n",
    "        cv.destroyAllWindows()\n",
    "        break"
   ],
   "metadata": {
    "collapsed": false,
    "pycharm": {
     "name": "#%%\n"
    }
   }
  },
  {
   "cell_type": "code",
   "execution_count": null,
   "outputs": [],
   "source": [],
   "metadata": {
    "collapsed": false,
    "pycharm": {
     "name": "#%%\n"
    }
   }
  },
  {
   "cell_type": "code",
   "execution_count": null,
   "outputs": [],
   "source": [],
   "metadata": {
    "collapsed": false,
    "pycharm": {
     "name": "#%%\n"
    }
   }
  }
 ],
 "metadata": {
  "kernelspec": {
   "display_name": "Python 3",
   "language": "python",
   "name": "python3"
  },
  "language_info": {
   "codemirror_mode": {
    "name": "ipython",
    "version": 2
   },
   "file_extension": ".py",
   "mimetype": "text/x-python",
   "name": "python",
   "nbconvert_exporter": "python",
   "pygments_lexer": "ipython2",
   "version": "2.7.6"
  }
 },
 "nbformat": 4,
 "nbformat_minor": 0
}