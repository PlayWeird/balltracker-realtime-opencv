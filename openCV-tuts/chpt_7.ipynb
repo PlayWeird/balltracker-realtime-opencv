{
 "cells": [
  {
   "cell_type": "code",
   "execution_count": 1,
   "metadata": {
    "collapsed": true,
    "pycharm": {
     "name": "#%%\n"
    }
   },
   "outputs": [],
   "source": [
    "%matplotlib inline\n",
    "\n",
    "from matplotlib import pyplot as plt\n",
    "import cv2 as cv\n",
    "import numpy as np"
   ]
  },
  {
   "cell_type": "code",
   "execution_count": 2,
   "outputs": [],
   "source": [
    "path = 'Resources/lambo.png'"
   ],
   "metadata": {
    "collapsed": false,
    "pycharm": {
     "name": "#%%\n"
    }
   }
  },
  {
   "cell_type": "code",
   "execution_count": 3,
   "outputs": [],
   "source": [
    "def empty(a):\n",
    "    pass\n",
    "\n",
    "def stackImages(scale, imgArray):\n",
    "    rows = len(imgArray)\n",
    "    cols = len(imgArray[0])\n",
    "    rowsAvailable = isinstance(imgArray[0], list)\n",
    "    width = imgArray[0][0].shape[1]\n",
    "    height = imgArray[0][0].shape[0]\n",
    "    if rowsAvailable:\n",
    "        for x in range(0, rows):\n",
    "            for y in range(0, cols):\n",
    "                if imgArray[x][y].shape[:2] == imgArray[0][0].shape[:2]:\n",
    "                    imgArray[x][y] = cv.resize(imgArray[x][y], (0, 0), None, scale, scale)\n",
    "                else:\n",
    "                    imgArray[x][y] = cv.resize(imgArray[x][y], (imgArray[0][0].shape[1], imgArray[0][0].shape[0]), None, scale, scale)\n",
    "                if len(imgArray[x][y].shape) == 2:\n",
    "                    imgArray[x][y] = cv.cvtColor(imgArray[x][y], cv.COLOR_GRAY2BGR)\n",
    "        imageBlank = np.zeros((height, width, 3), np.uint8)\n",
    "        hor = [imageBlank] * rows\n",
    "        hor_con = [imageBlank] * rows\n",
    "        for x in range(0, rows):\n",
    "            hor[x] = np.hstack(imgArray[x])\n",
    "        ver = np.vstack(hor)\n",
    "    else:\n",
    "        for x in range(0, rows):\n",
    "            if imgArray[x].shape[:2] == imgArray[0].shape[:2]:\n",
    "                imgArray[x] = cv.resize(imgArray[x], (0, 0), None, scale, scale)\n",
    "            else:\n",
    "                imgArray[x] = cv.resize(imgArray[x], (imgArray[0].shape[1], imgArray[0].shape[0]), None, scale, scale)\n",
    "            if len(imgArray[x].shape) == 2:\n",
    "                imgArray[x] = cv.cvtColor(imgArray[x], cv.COLOR_GRAY2BGR)\n",
    "        hor = np.hstack(imgArray)\n",
    "        ver = hor\n",
    "    return ver"
   ],
   "metadata": {
    "collapsed": false,
    "pycharm": {
     "name": "#%%\n"
    }
   }
  },
  {
   "cell_type": "code",
   "execution_count": 4,
   "outputs": [
    {
     "name": "stdout",
     "output_type": "stream",
     "text": [
      "0, 33, 138, 240, 153, 255\r"
     ]
    }
   ],
   "source": [
    "cv.namedWindow('Track Bars')\n",
    "cv.resizeWindow('Track Bars', 640, 240)\n",
    "cv.createTrackbar('Hue Min', 'Track Bars', 0, 179, empty)\n",
    "cv.createTrackbar('Hue Max', 'Track Bars', 19, 179, empty)\n",
    "cv.createTrackbar('Sat Min', 'Track Bars', 110, 255, empty)\n",
    "cv.createTrackbar('Sat Max', 'Track Bars', 240, 255, empty)\n",
    "cv.createTrackbar('Val Min', 'Track Bars', 153, 255, empty)\n",
    "cv.createTrackbar('Val Max', 'Track Bars', 255, 255, empty)\n",
    "\n",
    "while True:\n",
    "    img = cv.imread(path)\n",
    "    imgHSV = cv.cvtColor(img, cv.COLOR_BGR2HSV)\n",
    "    h_min = cv.getTrackbarPos('Hue Min', 'Track Bars')\n",
    "    h_max = cv.getTrackbarPos('Hue Max', 'Track Bars')\n",
    "    s_min = cv.getTrackbarPos('Sat Min', 'Track Bars')\n",
    "    s_max = cv.getTrackbarPos('Sat Max', 'Track Bars')\n",
    "    v_min = cv.getTrackbarPos('Val Min', 'Track Bars')\n",
    "    v_max = cv.getTrackbarPos('Val Max', 'Track Bars')\n",
    "    print(f'{h_min}, {h_max}, {s_min}, {s_max}, {v_min}, {v_max}', end='\\r', flush=True)\n",
    "\n",
    "    lower = np.array([h_min, s_min, v_min])\n",
    "    upper = np.array([h_max, s_max, v_max])\n",
    "    mask = cv.inRange(imgHSV, lower, upper)\n",
    "    imgResult = cv.bitwise_and(img, img, mask=mask)\n",
    "\n",
    "    imgCombined = stackImages(0.6, ([img, imgHSV], [mask, imgResult]))\n",
    "    cv.imshow('images', imgCombined)\n",
    "\n",
    "    if cv.waitKey(1) & 0xFF == ord('q'):\n",
    "        cv.destroyAllWindows()\n",
    "        break"
   ],
   "metadata": {
    "collapsed": false,
    "pycharm": {
     "name": "#%%\n"
    }
   }
  },
  {
   "cell_type": "code",
   "execution_count": null,
   "outputs": [],
   "source": [],
   "metadata": {
    "collapsed": false,
    "pycharm": {
     "name": "#%%\n"
    }
   }
  }
 ],
 "metadata": {
  "kernelspec": {
   "display_name": "Python 3",
   "language": "python",
   "name": "python3"
  },
  "language_info": {
   "codemirror_mode": {
    "name": "ipython",
    "version": 2
   },
   "file_extension": ".py",
   "mimetype": "text/x-python",
   "name": "python",
   "nbconvert_exporter": "python",
   "pygments_lexer": "ipython2",
   "version": "2.7.6"
  }
 },
 "nbformat": 4,
 "nbformat_minor": 0
}