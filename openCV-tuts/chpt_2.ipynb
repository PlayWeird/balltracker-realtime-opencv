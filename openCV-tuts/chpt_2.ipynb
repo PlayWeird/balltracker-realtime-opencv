{
 "cells": [
  {
   "cell_type": "code",
   "execution_count": 1,
   "metadata": {
    "collapsed": true,
    "pycharm": {
     "name": "#%%\n"
    }
   },
   "outputs": [],
   "source": [
    "import cv2\n",
    "%matplotlib inline\n",
    "\n",
    "from matplotlib import pyplot as plt\n",
    "import cv2 as cv\n",
    "import numpy as np"
   ]
  },
  {
   "cell_type": "code",
   "execution_count": 2,
   "outputs": [],
   "source": [
    "img = cv.imread('Resources/lena.png', 1)\n",
    "kernel = np.ones((5,5), np.uint8)"
   ],
   "metadata": {
    "collapsed": false,
    "pycharm": {
     "name": "#%%\n"
    }
   }
  },
  {
   "cell_type": "code",
   "execution_count": 3,
   "outputs": [],
   "source": [
    "imgGray = cv.cvtColor(img, cv.COLOR_BGR2GRAY)\n",
    "imgBlur = cv.GaussianBlur(imgGray, (7,7), 0)\n",
    "imgCanny = cv.Canny(img, 150, 200)\n",
    "imgDialation = cv.dilate(imgCanny, kernel, iterations=1)\n",
    "imgEroded = cv.erode(imgDialation, kernel, iterations=1)\n",
    "\n",
    "cv.imshow('Gray Image', imgGray)\n",
    "cv.imshow('Blur Image', imgBlur)\n",
    "cv.imshow('Canny', imgCanny)\n",
    "cv.imshow('Dialation Image', imgDialation)\n",
    "cv.imshow('Eroded Image', imgEroded)\n",
    "cv.waitKey(0)\n",
    "cv.destroyAllWindows()"
   ],
   "metadata": {
    "collapsed": false,
    "pycharm": {
     "name": "#%%\n"
    }
   }
  }
 ],
 "metadata": {
  "kernelspec": {
   "display_name": "Python 3",
   "language": "python",
   "name": "python3"
  },
  "language_info": {
   "codemirror_mode": {
    "name": "ipython",
    "version": 2
   },
   "file_extension": ".py",
   "mimetype": "text/x-python",
   "name": "python",
   "nbconvert_exporter": "python",
   "pygments_lexer": "ipython2",
   "version": "2.7.6"
  }
 },
 "nbformat": 4,
 "nbformat_minor": 0
}